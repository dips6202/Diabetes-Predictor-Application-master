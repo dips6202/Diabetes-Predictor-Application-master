{
  "cells": [
    {
      "cell_type": "markdown",
      "metadata": {
        "colab_type": "text",
        "id": "view-in-github"
      },
      "source": [
        "<a href=\"https://colab.research.google.com/github/RiturajSaha/Diabetes-Prediction/blob/master/diabetes.ipynb\" target=\"_parent\"><img src=\"https://colab.research.google.com/assets/colab-badge.svg\" alt=\"Open In Colab\"/></a>"
      ]
    },
    {
      "cell_type": "code",
      "execution_count": 1,
      "metadata": {
        "colab": {
          "base_uri": "https://localhost:8080/",
          "height": 35
        },
        "colab_type": "code",
        "id": "7QxHGQuGz1Y5",
        "outputId": "bee0b763-4329-458d-c9e4-30dcd2f675cf"
      },
      "outputs": [
        {
          "name": "stdout",
          "output_type": "stream",
          "text": [
            "/content/drive/My Drive/Colab Notebooks/Diabetes Prediction\n"
          ]
        }
      ],
      "source": [
        "# cd \"/content/drive/My Drive/Colab Notebooks/Diabetes Prediction\""
      ]
    },
    {
      "cell_type": "markdown",
      "metadata": {
        "colab_type": "text",
        "id": "I99-boXbwWES"
      },
      "source": [
        "Importing the Libraries"
      ]
    },
    {
      "cell_type": "code",
      "execution_count": 1,
      "metadata": {
        "colab": {},
        "colab_type": "code",
        "id": "EOrpv0gKstnf"
      },
      "outputs": [],
      "source": [
        "import numpy as np\n",
        "import matplotlib.pyplot as plt\n",
        "import pandas as pd"
      ]
    },
    {
      "cell_type": "markdown",
      "metadata": {
        "colab_type": "text",
        "id": "CwKvPUY9wcZR"
      },
      "source": [
        "Importing the Dataset"
      ]
    },
    {
      "cell_type": "code",
      "execution_count": 2,
      "metadata": {
        "colab": {},
        "colab_type": "code",
        "id": "RcG1SDzTwfE5"
      },
      "outputs": [],
      "source": [
        "dataset=pd.read_csv(\"diabetes.csv\")\n",
        "newdataset=dataset\n",
        "x=newdataset.iloc[:,0:8]\n",
        "y=newdataset.iloc[:,-1]"
      ]
    },
    {
      "cell_type": "markdown",
      "metadata": {
        "colab_type": "text",
        "id": "NTDVIGwzwipR"
      },
      "source": [
        "Splitting the dataset into the Training set and Test set"
      ]
    },
    {
      "cell_type": "code",
      "execution_count": 3,
      "metadata": {
        "colab": {
          "base_uri": "https://localhost:8080/",
          "height": 87
        },
        "colab_type": "code",
        "id": "ToVFRyZywp8E",
        "outputId": "75bbc04a-6c7c-473d-c66c-dcf0af2eadb0"
      },
      "outputs": [
        {
          "name": "stdout",
          "output_type": "stream",
          "text": [
            "X_train: 614\n",
            "X_test: 154\n",
            "y_train: 614\n",
            "y_test: 154\n"
          ]
        }
      ],
      "source": [
        "from sklearn.model_selection import train_test_split\n",
        "X_train, X_test, y_train, y_test = train_test_split(x, y, test_size = 0.2,random_state = 0)\n",
        "print(\"X_train:\",len(X_train))\n",
        "print(\"X_test:\",len(X_test))\n",
        "print(\"y_train:\",len(y_train))\n",
        "print(\"y_test:\",len(y_test))"
      ]
    },
    {
      "cell_type": "markdown",
      "metadata": {
        "colab_type": "text",
        "id": "GdXst_oawuRt"
      },
      "source": [
        "Classification Models"
      ]
    },
    {
      "cell_type": "markdown",
      "metadata": {
        "colab_type": "text",
        "id": "4yIAMlgwyjf9"
      },
      "source": [
        "K Nearest Neighbor"
      ]
    },
    {
      "cell_type": "code",
      "execution_count": 4,
      "metadata": {
        "colab": {
          "base_uri": "https://localhost:8080/",
          "height": 312
        },
        "colab_type": "code",
        "id": "gns8OYtkw2Qj",
        "outputId": "abcc9461-115d-4b78-8531-e4a1eff7bbb2"
      },
      "outputs": [
        {
          "name": "stdout",
          "output_type": "stream",
          "text": [
            "R2 Score: -0.16365082521376006\n",
            "Mean Squared Error: 0.24675324675324675\n",
            "Mean Absolute Error: 0.24675324675324675\n",
            "Accuracy: 75.32467532467533\n",
            "Confusion Matrix:\n",
            " [[87 20]\n",
            " [18 29]]\n",
            "Classification Report:\n",
            "               precision    recall  f1-score   support\n",
            "\n",
            "           0       0.83      0.81      0.82       107\n",
            "           1       0.59      0.62      0.60        47\n",
            "\n",
            "    accuracy                           0.75       154\n",
            "   macro avg       0.71      0.72      0.71       154\n",
            "weighted avg       0.76      0.75      0.75       154\n",
            "\n"
          ]
        }
      ],
      "source": [
        "# Fitting K-NN to the Training set\n",
        "from sklearn.neighbors import KNeighborsClassifier\n",
        "KNN_model = KNeighborsClassifier(n_neighbors = 5, metric = 'minkowski', p = 2)\n",
        "KNN_model.fit(X_train, y_train)\n",
        "\n",
        "# Predicting the Test set results\n",
        "y_pred = KNN_model.predict(X_test)\n",
        "\n",
        "\n",
        "# Analyzing the output\n",
        "from sklearn.metrics import r2_score,mean_squared_error,mean_absolute_error,accuracy_score,confusion_matrix,classification_report \n",
        "print(\"R2 Score:\",r2_score(y_test, y_pred)) \n",
        "print(\"Mean Squared Error:\",mean_squared_error(y_test, y_pred))\n",
        "print(\"Mean Absolute Error:\",mean_absolute_error(y_test, y_pred))\n",
        "print(\"Accuracy:\",accuracy_score(y_test, y_pred)*100) \n",
        "print(\"Confusion Matrix:\\n\",confusion_matrix(y_test, y_pred))\n",
        "print(\"Classification Report:\\n\",classification_report(y_test, y_pred)) "
      ]
    },
    {
      "cell_type": "markdown",
      "metadata": {
        "colab_type": "text",
        "id": "ssNDTCN5ysJs"
      },
      "source": [
        "Naive Bayes"
      ]
    },
    {
      "cell_type": "code",
      "execution_count": 7,
      "metadata": {
        "colab": {
          "base_uri": "https://localhost:8080/",
          "height": 312
        },
        "colab_type": "code",
        "id": "mqSqMt00xMTl",
        "outputId": "9a5bb98d-d98a-49c4-b8f8-ca1322be903c"
      },
      "outputs": [
        {
          "name": "stdout",
          "output_type": "stream",
          "text": [
            "R2 Score: 0.020083515609465197\n",
            "Mean Squared Error: 0.2077922077922078\n",
            "Mean Absolute Error: 0.2077922077922078\n",
            "Accuracy: 79.22077922077922\n",
            "Confusion Matrix:\n",
            " [[93 14]\n",
            " [18 29]]\n",
            "Classification Report:\n",
            "               precision    recall  f1-score   support\n",
            "\n",
            "           0       0.84      0.87      0.85       107\n",
            "           1       0.67      0.62      0.64        47\n",
            "\n",
            "    accuracy                           0.79       154\n",
            "   macro avg       0.76      0.74      0.75       154\n",
            "weighted avg       0.79      0.79      0.79       154\n",
            "\n"
          ]
        }
      ],
      "source": [
        "# Fitting Naive Bayes to the Training set\n",
        "from sklearn.naive_bayes import GaussianNB\n",
        "NB_model = GaussianNB()\n",
        "NB_model.fit(X_train, y_train)\n",
        "\n",
        "\n",
        "# Predicting the Test set results\n",
        "y_pred = NB_model.predict(X_test)\n",
        "\n",
        "\n",
        "# Analyzing the output\n",
        "from sklearn.metrics import r2_score,mean_squared_error,mean_absolute_error,accuracy_score,confusion_matrix,classification_report \n",
        "print(\"R2 Score:\",r2_score(y_test, y_pred)) \n",
        "print(\"Mean Squared Error:\",mean_squared_error(y_test, y_pred))\n",
        "print(\"Mean Absolute Error:\",mean_absolute_error(y_test, y_pred))\n",
        "print(\"Accuracy:\",accuracy_score(y_test, y_pred)*100) \n",
        "print(\"Confusion Matrix:\\n\",confusion_matrix(y_test, y_pred))\n",
        "print(\"Classification Report:\\n\",classification_report(y_test, y_pred)) "
      ]
    },
    {
      "cell_type": "markdown",
      "metadata": {
        "colab_type": "text",
        "id": "aBfWKzm0ywBJ"
      },
      "source": [
        "Random Forest Classification"
      ]
    },
    {
      "cell_type": "code",
      "execution_count": 8,
      "metadata": {
        "colab": {
          "base_uri": "https://localhost:8080/",
          "height": 312
        },
        "colab_type": "code",
        "id": "CF-MqwjrxNNO",
        "outputId": "03839519-74a5-454f-9e51-9f50415eb1b2"
      },
      "outputs": [
        {
          "name": "stdout",
          "output_type": "stream",
          "text": [
            "R2 Score: -0.16365082521376006\n",
            "Mean Squared Error: 0.24675324675324675\n",
            "Mean Absolute Error: 0.24675324675324675\n",
            "Accuracy: 75.32467532467533\n",
            "Confusion Matrix:\n",
            " [[87 20]\n",
            " [18 29]]\n",
            "Classification Report:\n",
            "               precision    recall  f1-score   support\n",
            "\n",
            "           0       0.83      0.81      0.82       107\n",
            "           1       0.59      0.62      0.60        47\n",
            "\n",
            "    accuracy                           0.75       154\n",
            "   macro avg       0.71      0.72      0.71       154\n",
            "weighted avg       0.76      0.75      0.75       154\n",
            "\n"
          ]
        }
      ],
      "source": [
        "# Fitting Random Forest Classification to the Training set\n",
        "from sklearn.ensemble import RandomForestClassifier\n",
        "RFC_model = RandomForestClassifier(n_estimators = 1000, criterion = 'entropy')\n",
        "RFC_model.fit(X_train, y_train)\n",
        "\n",
        "\n",
        "# Predicting the Test set results\n",
        "y_pred = KNN_model.predict(X_test)\n",
        "\n",
        "\n",
        "# Analyzing the output\n",
        "from sklearn.metrics import r2_score,mean_squared_error,mean_absolute_error,accuracy_score,confusion_matrix,classification_report \n",
        "print(\"R2 Score:\",r2_score(y_test, y_pred)) \n",
        "print(\"Mean Squared Error:\",mean_squared_error(y_test, y_pred))\n",
        "print(\"Mean Absolute Error:\",mean_absolute_error(y_test, y_pred))\n",
        "print(\"Accuracy:\",accuracy_score(y_test, y_pred)*100) \n",
        "print(\"Confusion Matrix:\\n\",confusion_matrix(y_test, y_pred))\n",
        "print(\"Classification Report:\\n\",classification_report(y_test, y_pred)) "
      ]
    },
    {
      "cell_type": "markdown",
      "metadata": {
        "colab_type": "text",
        "id": "bLXHuECcyyq2"
      },
      "source": [
        "Linear Support Vector Classification"
      ]
    },
    {
      "cell_type": "code",
      "execution_count": 9,
      "metadata": {
        "colab": {
          "base_uri": "https://localhost:8080/",
          "height": 347
        },
        "colab_type": "code",
        "id": "yTAnDC2uxN1c",
        "outputId": "4f0592a7-f5fb-4689-e48e-5158a977a010"
      },
      "outputs": [
        {
          "name": "stdout",
          "output_type": "stream",
          "text": [
            "R2 Score: -0.6229866772718233\n",
            "Mean Squared Error: 0.34415584415584416\n",
            "Mean Absolute Error: 0.34415584415584416\n",
            "Accuracy: 65.5844155844156\n",
            "Confusion Matrix:\n",
            " [[81 26]\n",
            " [27 20]]\n",
            "Classification Report:\n",
            "               precision    recall  f1-score   support\n",
            "\n",
            "           0       0.75      0.76      0.75       107\n",
            "           1       0.43      0.43      0.43        47\n",
            "\n",
            "    accuracy                           0.66       154\n",
            "   macro avg       0.59      0.59      0.59       154\n",
            "weighted avg       0.65      0.66      0.65       154\n",
            "\n"
          ]
        },
        {
          "name": "stderr",
          "output_type": "stream",
          "text": [
            "c:\\Users\\lenovo\\AppData\\Local\\Programs\\Python\\Python310\\lib\\site-packages\\sklearn\\svm\\_base.py:1244: ConvergenceWarning: Liblinear failed to converge, increase the number of iterations.\n",
            "  warnings.warn(\n"
          ]
        }
      ],
      "source": [
        "# Fitting LinearSVC to the Training set\n",
        "from sklearn.svm import LinearSVC\n",
        "LSVC_model = LinearSVC()\n",
        "LSVC_model.fit(X_train, y_train)\n",
        "\n",
        "\n",
        "# Predicting the Test set results\n",
        "y_pred = LSVC_model.predict(X_test)\n",
        "\n",
        "\n",
        "# Analyzing the output\n",
        "from sklearn.metrics import r2_score,mean_squared_error,mean_absolute_error,accuracy_score,confusion_matrix,classification_report \n",
        "print(\"R2 Score:\",r2_score(y_test, y_pred)) \n",
        "print(\"Mean Squared Error:\",mean_squared_error(y_test, y_pred))\n",
        "print(\"Mean Absolute Error:\",mean_absolute_error(y_test, y_pred))\n",
        "print(\"Accuracy:\",accuracy_score(y_test, y_pred)*100) \n",
        "print(\"Confusion Matrix:\\n\",confusion_matrix(y_test, y_pred))\n",
        "print(\"Classification Report:\\n\",classification_report(y_test, y_pred)) "
      ]
    },
    {
      "cell_type": "markdown",
      "metadata": {
        "colab_type": "text",
        "id": "PoFA7u9yy17w"
      },
      "source": [
        "Support Vector Classification"
      ]
    },
    {
      "cell_type": "code",
      "execution_count": 10,
      "metadata": {
        "colab": {
          "base_uri": "https://localhost:8080/",
          "height": 312
        },
        "colab_type": "code",
        "id": "th7-Z62Qxj-Q",
        "outputId": "7bd969e4-195b-4232-e5cb-3d85032a08d3"
      },
      "outputs": [
        {
          "name": "stdout",
          "output_type": "stream",
          "text": [
            "R2 Score: 0.14257307615828196\n",
            "Mean Squared Error: 0.18181818181818182\n",
            "Mean Absolute Error: 0.18181818181818182\n",
            "Accuracy: 81.81818181818183\n",
            "Confusion Matrix:\n",
            " [[97 10]\n",
            " [18 29]]\n",
            "Classification Report:\n",
            "               precision    recall  f1-score   support\n",
            "\n",
            "           0       0.84      0.91      0.87       107\n",
            "           1       0.74      0.62      0.67        47\n",
            "\n",
            "    accuracy                           0.82       154\n",
            "   macro avg       0.79      0.76      0.77       154\n",
            "weighted avg       0.81      0.82      0.81       154\n",
            "\n"
          ]
        }
      ],
      "source": [
        "# Fitting SVC to the Training set\n",
        "from sklearn.svm import SVC\n",
        "SVC_model = SVC(kernel = 'linear')\n",
        "SVC_model.fit(X_train, y_train)\n",
        "\n",
        "\n",
        "# Predicting the Test set results\n",
        "y_pred = SVC_model.predict(X_test)\n",
        "\n",
        "\n",
        "# Analyzing the output\n",
        "from sklearn.metrics import r2_score,mean_squared_error,mean_absolute_error,accuracy_score,confusion_matrix,classification_report \n",
        "print(\"R2 Score:\",r2_score(y_test, y_pred)) \n",
        "print(\"Mean Squared Error:\",mean_squared_error(y_test, y_pred))\n",
        "print(\"Mean Absolute Error:\",mean_absolute_error(y_test, y_pred))\n",
        "print(\"Accuracy:\",accuracy_score(y_test, y_pred)*100) \n",
        "print(\"Confusion Matrix:\\n\",confusion_matrix(y_test, y_pred))\n",
        "print(\"Classification Report:\\n\",classification_report(y_test, y_pred)) "
      ]
    },
    {
      "cell_type": "markdown",
      "metadata": {
        "colab_type": "text",
        "id": "SwgqOND50aOF"
      },
      "source": [
        "Saving the model having highest Accuracy"
      ]
    },
    {
      "cell_type": "code",
      "execution_count": 14,
      "metadata": {
        "colab": {},
        "colab_type": "code",
        "id": "WHNaPR_W0YHY"
      },
      "outputs": [],
      "source": [
        "import pickle\n",
        "pickle.dump(SVC_model, open('SVC_model3.pkl','wb')) "
      ]
    },
    {
      "cell_type": "markdown",
      "metadata": {
        "colab_type": "text",
        "id": "xpzhIIFq1PxM"
      },
      "source": [
        "Sample Test"
      ]
    },
    {
      "cell_type": "code",
      "execution_count": 15,
      "metadata": {
        "colab": {
          "base_uri": "https://localhost:8080/",
          "height": 35
        },
        "colab_type": "code",
        "id": "SlAw1uIC1RVt",
        "outputId": "607412a0-60b0-4370-bfae-9ed924d5ece9"
      },
      "outputs": [
        {
          "name": "stdout",
          "output_type": "stream",
          "text": [
            "Diabetic\n"
          ]
        },
        {
          "name": "stderr",
          "output_type": "stream",
          "text": [
            "c:\\Users\\lenovo\\AppData\\Local\\Programs\\Python\\Python310\\lib\\site-packages\\sklearn\\base.py:439: UserWarning: X does not have valid feature names, but SVC was fitted with feature names\n",
            "  warnings.warn(\n"
          ]
        }
      ],
      "source": [
        "model = pickle.load(open('SVC_model3.pkl','rb'))\n",
        "print(\"Diabetic\" if model.predict([[6,148,72,35,0,33.6,0.627,50]])[0]==1 else \"Normal\")"
      ]
    }
  ],
  "metadata": {
    "colab": {
      "authorship_tag": "ABX9TyP3+X+RqFbqA1MPi8QawW5d",
      "collapsed_sections": [],
      "include_colab_link": true,
      "mount_file_id": "1kSjf784iIrKpetUU6_ieh-IHS9FjlSRC",
      "name": "diabetes.ipynb",
      "provenance": []
    },
    "kernelspec": {
      "display_name": "Python 3",
      "name": "python3"
    },
    "language_info": {
      "codemirror_mode": {
        "name": "ipython",
        "version": 3
      },
      "file_extension": ".py",
      "mimetype": "text/x-python",
      "name": "python",
      "nbconvert_exporter": "python",
      "pygments_lexer": "ipython3",
      "version": "3.10.2"
    }
  },
  "nbformat": 4,
  "nbformat_minor": 0
}
